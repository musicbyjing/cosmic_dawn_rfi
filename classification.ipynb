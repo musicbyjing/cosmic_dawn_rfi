{
 "cells": [
  {
   "cell_type": "code",
   "execution_count": 2,
   "metadata": {},
   "outputs": [
    {
     "name": "stderr",
     "output_type": "stream",
     "text": [
      "/anaconda3/lib/python3.6/site-packages/hera_sim/visibilities/__init__.py:22: UserWarning: HealVis failed to import.\n",
      "  warnings.warn(\"HealVis failed to import.\")\n",
      "/anaconda3/lib/python3.6/site-packages/hera_sim/visibilities/__init__.py:27: UserWarning: PRISim failed to import.\n",
      "  warnings.warn(\"PRISim failed to import.\")\n",
      "/anaconda3/lib/python3.6/site-packages/hera_sim/visibilities/__init__.py:33: UserWarning: VisGPU failed to import.\n",
      "  warnings.warn(\"VisGPU failed to import.\")\n",
      "/anaconda3/lib/python3.6/site-packages/hera_sim/__init__.py:36: FutureWarning: \n",
      "In the next major release, all HERA-specific variables will be removed from the codebase. The following variables will need to be accessed through new class-like structures to be introduced in the next major release: \n",
      "\n",
      "noise.HERA_Tsky_mdl\n",
      "noise.HERA_BEAM_POLY\n",
      "sigchain.HERA_NRAO_BANDPASS\n",
      "rfi.HERA_RFI_STATIONS\n",
      "\n",
      "Additionally, the next major release will involve modifications to the package's API, which move toward a regularization of the way in which hera_sim methods are interfaced with; in particular, changes will be made such that the Simulator class is the most intuitive way of interfacing with the hera_sim package features.\n",
      "  FutureWarning)\n"
     ]
    }
   ],
   "source": [
    "# %matplotlib notebook # comment this line when working in VSCode\n",
    "%load_ext tensorboard\n",
    "\n",
    "import aipy, uvtools\n",
    "import numpy as np\n",
    "import pylab as plt\n",
    "import random\n",
    "import math\n",
    "import datetime\n",
    "import os.path\n",
    "\n",
    "from hera_sim import foregrounds, noise, sigchain, rfi\n",
    "\n",
    "import tensorflow as tf\n",
    "from tensorflow.keras import layers\n",
    "from tensorflow.keras import backend as K\n",
    "from tensorflow.keras.utils import plot_model\n",
    "from sklearn.model_selection import train_test_split, StratifiedKFold\n"
   ]
  },
  {
   "cell_type": "code",
   "execution_count": 3,
   "metadata": {},
   "outputs": [],
   "source": [
    "def plot_one_vis(vis, ylim):\n",
    "    plt.figure()\n",
    "    plt.subplot(211); uvtools.plot.waterfall(vis, mode='log', mx=MX, drng=DRNG); plt.colorbar(); plt.ylim(0,ylim)\n",
    "    plt.subplot(212); uvtools.plot.waterfall(vis, mode='phs'); plt.colorbar(); plt.ylim(0,ylim)\n",
    "    plt.show()\n",
    "\n",
    "MX, DRNG = 2.5, 3"
   ]
  },
  {
   "cell_type": "code",
   "execution_count": 4,
   "metadata": {},
   "outputs": [],
   "source": [
    "def load_data(*args):\n",
    "    # load and configure the dataset\n",
    "    dataset = np.load(args[0])\n",
    "    labels = np.load(args[1])\n",
    "    print(f'Dataset imported from {args[0]}')\n",
    "    X, y = dataset, labels\n",
    "    print(f\"Dataset shape: {X.shape}\")\n",
    "    \n",
    "    # split into training and test sets\n",
    "    X_train, X_test, y_train, y_test = train_test_split(X, y, test_size=0.2, stratify=y)\n",
    "    print(f\"X_train.shape: {X_train.shape}, X_test.shape: {X_test.shape}\")\n",
    "    n_features = (X_train.shape[1], X_train.shape[2])\n",
    "#     print(n_features)\n",
    "    return X, y, X_train, y_train, X_test, y_test, n_features\n",
    "\n",
    "def load_data_cv():\n",
    "    # load and configure the dataset\n",
    "    i = 1\n",
    "    while(os.path.isfile(f'dataset{i+1}.npy')):\n",
    "        i = i+1\n",
    "    dataset = np.load(f'dataset{i}.npy')\n",
    "    labels = np.load(f'labels{i}.npy')\n",
    "    print(f'Dataset imported from dataset{i}.npy')\n",
    "    X, y = dataset, labels\n",
    "    print(f\"Dataset shape: {X.shape}\")\n",
    "    n_features = (X.shape[1], X.shape[2])\n",
    "    return X, y, n_features\n",
    "\n",
    "def create_model(n_features):\n",
    "    model = tf.keras.Sequential()\n",
    "    model.add(layers.Flatten(input_shape=n_features))\n",
    "    model.add(layers.Dense(25, activation='relu', kernel_initializer='he_normal'))\n",
    "    model.add(layers.Dense(8, activation='relu', kernel_initializer='he_normal'))\n",
    "    model.add(layers.Dense(1, activation='sigmoid'))\n",
    "    model.compile(optimizer='adam', loss='binary_crossentropy', metrics=['accuracy']) \n",
    "    return model\n",
    "\n",
    "def train_and_evaluate_model(model, X_train, y_train, X_test, y_test):\n",
    "    # logs for TensorBoard\n",
    "    log_dir = \"logs/fit/\" + datetime.datetime.now().strftime(\"%Y%m%d-%H%M%S\")\n",
    "    tensorboard_callback = tf.keras.callbacks.TensorBoard(log_dir=log_dir, histogram_freq=1)\n",
    "    \n",
    "    # fit the model\n",
    "    history = model.fit(X_train, y_train, epochs=150, batch_size=32, verbose=0, validation_split=0.2, callbacks=[tensorboard_callback]) \n",
    "\n",
    "    # evaluate the model\n",
    "    loss, acc = model.evaluate(X_test, y_test, verbose=0)\n",
    "    print('Test Accuracy: %.3f' % acc)\n",
    "\n",
    "    # make predictions\n",
    "    predictions = model.predict_classes(X_test)\n",
    "    predictions = predictions.flatten()\n",
    "    # model.summary()\n",
    "    return history, acc, predictions\n"
   ]
  },
  {
   "cell_type": "markdown",
   "metadata": {},
   "source": [
    "- ReLu activation function: for x, it returns max(0, x)\n",
    "- He weight initialization is a good option: https://towardsdatascience.com/weight-initialization-techniques-in-neural-networks-26c649eb3b78"
   ]
  },
  {
   "cell_type": "code",
   "execution_count": 7,
   "metadata": {},
   "outputs": [],
   "source": [
    "def get_faulty_predictions(predictions, labels):\n",
    "    my_list = []\n",
    "    for i, val in enumerate(predictions):\n",
    "        if predictions[i] != labels[i]:\n",
    "            my_list.append(i)\n",
    "    return my_list\n",
    "\n",
    "def print_stats(accs, faulty_predictions, predictions):\n",
    "    print(f\"Mean accuracy: {np.mean(accs)}\")\n",
    "    print(f\"Standard dev.: {np.std(accs)}\")\n",
    "    l = []\n",
    "    for val in faulty_predictions:\n",
    "        l.append(predictions[val])\n",
    "    if np.bincount(l)[0]:\n",
    "        print(f\"0's (RFI misclassified as clean): {np.bincount(l)[0]}\")\n",
    "    if np.bincount(l)[1]:\n",
    "        print(f\"1's (clean misclassified as RFI): {np.bincount(l)[1]}\")\n",
    "\n",
    "def show_learning_curves(history):\n",
    "    plt.title('Learning Curves')\n",
    "    plt.xlabel('Epoch')\n",
    "    plt.ylabel('Cross Entropy')\n",
    "    plt.plot(history.history['loss'], label='train')\n",
    "    plt.plot(history.history['val_loss'], label='val')\n",
    "#     plt.yscale(\"log\")\n",
    "    plt.legend()\n",
    "    plt.show()\n",
    "    \n",
    "def show_layer_outputs(model, X):\n",
    "    for i, val in enumerate(model.layers):\n",
    "        plt.imshow(model.layers[i].output, aspect=\"auto\")\n",
    "#     inp = model.input\n",
    "#     outputs = [layer.output for layer in model.layers]\n",
    "#     functor = K.function([inp, K.learning_phase()], outputs )\n",
    "#     layer_outs = functor([X, 1.])\n",
    "#     plt.imshow(layer_outs, aspect=\"auto\")\n",
    "    "
   ]
  },
  {
   "cell_type": "markdown",
   "metadata": {},
   "source": [
    "# No Cross-validation"
   ]
  },
  {
   "cell_type": "code",
   "execution_count": 6,
   "metadata": {
    "scrolled": true
   },
   "outputs": [
    {
     "name": "stdout",
     "output_type": "stream",
     "text": [
      "Dataset imported from dataset3.npy\n",
      "Dataset shape: (1200, 20, 2048)\n",
      "X_train.shape: (960, 20, 2048), X_test.shape: (240, 20, 2048)\n",
      "Test Accuracy: 0.988\n"
     ]
    },
    {
     "data": {
      "image/png": "[encoded data removed]",
      "text/plain": [
       "<Figure size 432x288 with 1 Axes>"
      ]
     },
     "metadata": {
      "needs_background": "light"
     },
     "output_type": "display_data"
    },
    {
     "name": "stdout",
     "output_type": "stream",
     "text": [
      "Mean accuracy: 0.987500011920929\n",
      "Standard dev.: 0.0\n",
      "0's (RFI misclassified as clean): 0\n",
      "1's (clean misclassified as RFI): 3\n",
      "Test Accuracy: 1.000\n"
     ]
    },
    {
     "data": {
      "image/png": "[encoded data removed]",
      "text/plain": [
       "<Figure size 432x288 with 1 Axes>"
      ]
     },
     "metadata": {
      "needs_background": "light"
     },
     "output_type": "display_data"
    },
    {
     "name": "stdout",
     "output_type": "stream",
     "text": [
      "Mean accuracy: 0.9937499761581421\n",
      "Standard dev.: 0.0062499940395355225\n",
      "0's (RFI misclassified as clean): 3\n"
     ]
    },
    {
     "ename": "IndexError",
     "evalue": "index 1 is out of bounds for axis 0 with size 1",
     "output_type": "error",
     "traceback": [
      "\u001b[0;31m---------------------------------------------------------------------------\u001b[0m",
      "\u001b[0;31mIndexError\u001b[0m                                Traceback (most recent call last)",
      "\u001b[0;32m<ipython-input-6-5bfe93f5a7bf>\u001b[0m in \u001b[0;36m<module>\u001b[0;34m\u001b[0m\n\u001b[1;32m     14\u001b[0m     \u001b[0mshow_learning_curves\u001b[0m\u001b[0;34m(\u001b[0m\u001b[0mhistory\u001b[0m\u001b[0;34m)\u001b[0m\u001b[0;34m\u001b[0m\u001b[0;34m\u001b[0m\u001b[0m\n\u001b[1;32m     15\u001b[0m \u001b[0;34m\u001b[0m\u001b[0m\n\u001b[0;32m---> 16\u001b[0;31m     \u001b[0mprint_stats\u001b[0m\u001b[0;34m(\u001b[0m\u001b[0maccs\u001b[0m\u001b[0;34m,\u001b[0m \u001b[0mfaulty_predictions\u001b[0m\u001b[0;34m,\u001b[0m \u001b[0mpredictions\u001b[0m\u001b[0;34m)\u001b[0m\u001b[0;34m\u001b[0m\u001b[0;34m\u001b[0m\u001b[0m\n\u001b[0m\u001b[1;32m     17\u001b[0m \u001b[0;34m\u001b[0m\u001b[0m\n\u001b[1;32m     18\u001b[0m \u001b[0;34m\u001b[0m\u001b[0m\n",
      "\u001b[0;32m<ipython-input-5-2e22c214ff04>\u001b[0m in \u001b[0;36mprint_stats\u001b[0;34m(accs, faulty_predictions, predictions)\u001b[0m\n\u001b[1;32m     13\u001b[0m         \u001b[0ml\u001b[0m\u001b[0;34m.\u001b[0m\u001b[0mappend\u001b[0m\u001b[0;34m(\u001b[0m\u001b[0mpredictions\u001b[0m\u001b[0;34m[\u001b[0m\u001b[0mval\u001b[0m\u001b[0;34m]\u001b[0m\u001b[0;34m)\u001b[0m\u001b[0;34m\u001b[0m\u001b[0;34m\u001b[0m\u001b[0m\n\u001b[1;32m     14\u001b[0m     \u001b[0mprint\u001b[0m\u001b[0;34m(\u001b[0m\u001b[0;34mf\"0's (RFI misclassified as clean): {np.bincount(l)[0]}\"\u001b[0m\u001b[0;34m)\u001b[0m\u001b[0;34m\u001b[0m\u001b[0;34m\u001b[0m\u001b[0m\n\u001b[0;32m---> 15\u001b[0;31m     \u001b[0mprint\u001b[0m\u001b[0;34m(\u001b[0m\u001b[0;34mf\"1's (clean misclassified as RFI): {np.bincount(l)[1]}\"\u001b[0m\u001b[0;34m)\u001b[0m\u001b[0;34m\u001b[0m\u001b[0;34m\u001b[0m\u001b[0m\n\u001b[0m\u001b[1;32m     16\u001b[0m \u001b[0;34m\u001b[0m\u001b[0m\n\u001b[1;32m     17\u001b[0m \u001b[0;32mdef\u001b[0m \u001b[0mshow_learning_curves\u001b[0m\u001b[0;34m(\u001b[0m\u001b[0mhistory\u001b[0m\u001b[0;34m)\u001b[0m\u001b[0;34m:\u001b[0m\u001b[0;34m\u001b[0m\u001b[0;34m\u001b[0m\u001b[0m\n",
      "\u001b[0;31mIndexError\u001b[0m: index 1 is out of bounds for axis 0 with size 1"
     ]
    }
   ],
   "source": [
    "X, y, X_train, y_train, X_test, y_test, n_features = load_data('dataset3.npy', 'labels3.npy')\n",
    "faulty_predictions = []\n",
    "accs = []\n",
    "\n",
    "\n",
    "for i in range(4):\n",
    "    model = None\n",
    "    model = create_model(n_features)\n",
    "\n",
    "    history, acc, predictions = train_and_evaluate_model(model, X_train, y_train, X_test, y_test)\n",
    "    accs.append(acc)\n",
    "    faulty_predictions.extend(get_faulty_predictions(predictions, y_test))\n",
    "\n",
    "    show_learning_curves(history)\n",
    "\n",
    "    print_stats(accs, faulty_predictions, predictions)\n",
    "\n",
    "\n",
    "\n",
    "# print(layer_output.shape)"
   ]
  },
  {
   "cell_type": "code",
   "execution_count": null,
   "metadata": {},
   "outputs": [],
   "source": []
  },
  {
   "cell_type": "code",
   "execution_count": 116,
   "metadata": {},
   "outputs": [],
   "source": [
    "# SHOW INTERMEDIATE LAYERS\n",
    "\n",
    "# f0 = K.function(inputs = model.layers[0].input, outputs = model.layers[0].output)\n",
    "# f1 = K.function(inputs = model.layers[0].input, outputs = model.layers[1].output)\n",
    "# f2 = K.function(inputs = model.layers[0].input, outputs = model.layers[2].output)\n",
    "# f3 = K.function(inputs = model.layers[0].input, outputs = model.layers[3].output)\n",
    "# l0 = f0(X)\n",
    "# l1 = f1(X)\n",
    "# l2 = f2(X)\n",
    "# l3 = f3(X)\n",
    "# plt.imshow(l1, aspect=\"auto\")"
   ]
  },
  {
   "cell_type": "code",
   "execution_count": 117,
   "metadata": {
    "scrolled": false
   },
   "outputs": [],
   "source": [
    "# VISUALIZE FAULTY PREDICTIONS\n",
    "#\n",
    "# for i, val in enumerate(X):\n",
    "#     if i in faulty_predictions:\n",
    "#         print(f'Predicted: {predictions[i]}')\n",
    "#         plot_one_vis(val, 20)"
   ]
  },
  {
   "cell_type": "markdown",
   "metadata": {},
   "source": [
    "# Stratified K-fold Cross-validation"
   ]
  },
  {
   "cell_type": "code",
   "execution_count": 31,
   "metadata": {
    "scrolled": true
   },
   "outputs": [
    {
     "data": {
      "text/plain": [
       "'\\nn_splits = 3\\nX, y, n_features = load_data_cv()\\nskf = StratifiedKFold(n_splits, shuffle=True)\\n\\naccs = []\\nfaulty_predictions=[]\\n\\nfor i in range(4):\\n    print(f\"Run {i}\")\\n    for i, (train_index, test_index) in enumerate(skf.split(X, y)):\\n        # print(len(X[test_index]), len(y[train_index]))\\n        print(\"Running Fold\", i+1, \"/\", n_splits)\\n        model = None # clear the NN\\n        model = create_model(n_features)\\n        history, acc, predictions = train_and_evaluate_model(model, X[train_index], y[train_index], X[test_index], y[test_index])\\n        accs.append(acc)\\n        faulty_predictions.extend(get_faulty_predictions(predictions, y[test_index]))\\n        \\n    show_learning_curves(history)\\n    print_stats(accs, faulty_predictions, predictions)\\n'"
      ]
     },
     "execution_count": 31,
     "metadata": {},
     "output_type": "execute_result"
    }
   ],
   "source": [
    "'''\n",
    "n_splits = 3\n",
    "X, y, n_features = load_data_cv()\n",
    "skf = StratifiedKFold(n_splits, shuffle=True)\n",
    "\n",
    "accs = []\n",
    "faulty_predictions=[]\n",
    "\n",
    "for i in range(4):\n",
    "    print(f\"Run {i}\")\n",
    "    for i, (train_index, test_index) in enumerate(skf.split(X, y)):\n",
    "        # print(len(X[test_index]), len(y[train_index]))\n",
    "        print(\"Running Fold\", i+1, \"/\", n_splits)\n",
    "        model = None # clear the NN\n",
    "        model = create_model(n_features)\n",
    "        history, acc, predictions = train_and_evaluate_model(model, X[train_index], y[train_index], X[test_index], y[test_index])\n",
    "        accs.append(acc)\n",
    "        faulty_predictions.extend(get_faulty_predictions(predictions, y[test_index]))\n",
    "        \n",
    "    show_learning_curves(history)\n",
    "    print_stats(accs, faulty_predictions, predictions)\n",
    "'''"
   ]
  },
  {
   "cell_type": "code",
   "execution_count": null,
   "metadata": {},
   "outputs": [],
   "source": []
  }
 ],
 "metadata": {
  "file_extension": ".py",
  "kernelspec": {
   "display_name": "Python 3",
   "language": "python",
   "name": "python3"
  },
  "language_info": {
   "codemirror_mode": {
    "name": "ipython",
    "version": 3
   },
   "file_extension": ".py",
   "mimetype": "text/x-python",
   "name": "python",
   "nbconvert_exporter": "python",
   "pygments_lexer": "ipython3",
   "version": "3.6.8"
  },
  "mimetype": "text/x-python",
  "name": "python",
  "npconvert_exporter": "python",
  "pygments_lexer": "ipython3",
  "version": 3
 },
 "nbformat": 4,
 "nbformat_minor": 2
}
