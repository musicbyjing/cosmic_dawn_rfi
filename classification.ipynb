{
 "nbformat": 4,
 "nbformat_minor": 2,
 "metadata": {
  "language_info": {
   "name": "python",
   "codemirror_mode": {
    "name": "ipython",
    "version": 3
   },
   "version": "3.6.8-final"
  },
  "orig_nbformat": 2,
  "file_extension": ".py",
  "mimetype": "text/x-python",
  "name": "python",
  "npconvert_exporter": "python",
  "pygments_lexer": "ipython3",
  "version": 3,
  "kernelspec": {
   "name": "python3",
   "display_name": "Python 3"
  }
 },
 "cells": [
  {
   "cell_type": "code",
   "execution_count": 3,
   "metadata": {},
   "outputs": [],
   "source": [
    "# %matplotlib notebook # comment this line when working in VSCode\n",
    "import aipy, uvtools\n",
    "import numpy as np\n",
    "import pylab as plt\n",
    "import random\n",
    "import math\n",
    "from hera_sim import foregrounds, noise, sigchain, rfi"
   ]
  },
  {
   "cell_type": "code",
   "execution_count": 4,
   "metadata": {},
   "outputs": [],
   "source": [
    "import tensorflow as tf\n",
    "from tensorflow.keras import layers\n",
    "from sklearn.model_selection import train_test_split"
   ]
  },
  {
   "cell_type": "code",
   "execution_count": 9,
   "metadata": {},
   "outputs": [],
   "source": [
    "dataset = np.load('dataset.npy')\n",
    "labels = np.load('labels.npy')"
   ]
  },
  {
   "cell_type": "code",
   "execution_count": 10,
   "metadata": {},
   "outputs": [
    {
     "name": "stdout",
     "output_type": "stream",
     "text": "(1, 200, 1024)\n"
    }
   ],
   "source": [
    "# initialize test point\n",
    "test_pt = dataset[40]\n",
    "test_pt = np.expand_dims(test_pt, axis=0) # add dimension of 1 at front\n",
    "print(test_pt.shape)"
   ]
  },
  {
   "cell_type": "markdown",
   "metadata": {},
   "source": [
    "- ReLu activation function: for x, it returns max(0, x)\n",
    "- He weight initialization is a good option: https://towardsdatascience.com/weight-initialization-techniques-in-neural-networks-26c649eb3b78"
   ]
  },
  {
   "cell_type": "code",
   "execution_count": 11,
   "metadata": {},
   "outputs": [
    {
     "name": "stdout",
     "output_type": "stream",
     "text": "(80, 200, 1024) (40, 200, 1024) (80,) (40,)\n(200, 1024)\nTest Accuracy: 0.825\nPredicted: 1.000\n"
    }
   ],
   "source": [
    "# configure the dataset\n",
    "X, y = dataset, labels\n",
    "X = X.astype('float32')\n",
    "\n",
    "# split into train and test datasets\n",
    "X_train, X_test, y_train, y_test = train_test_split(X, y, test_size=0.33)\n",
    "############## how does it split???\n",
    "############## see where it fails????\n",
    "print(X_train.shape, X_test.shape, y_train.shape, y_test.shape)\n",
    "n_features = (X_train.shape[1], X_train.shape[2])\n",
    "print(n_features)\n",
    "\n",
    "# define model\n",
    "model = tf.keras.Sequential()\n",
    "model.add(layers.Flatten(input_shape=n_features))\n",
    "model.add(layers.Dense(10, activation='relu', kernel_initializer='he_normal'))\n",
    "model.add(layers.Dense(8, activation='relu', kernel_initializer='he_normal'))\n",
    "model.add(layers.Dense(1, activation='sigmoid'))\n",
    "\n",
    "# compile the model\n",
    "model.compile(optimizer='adam', loss='binary_crossentropy', metrics=['accuracy'])\n",
    "\n",
    "# fit the model\n",
    "model.fit(X_train, y_train, epochs=150, batch_size=32, verbose=0)\n",
    "\n",
    "# evaluate the model\n",
    "loss, acc = model.evaluate(X_test, y_test, verbose=0)\n",
    "print('Test Accuracy: %.3f' % acc)\n",
    "\n",
    "# make a prediction\n",
    "yhat = model.predict([test_pt])\n",
    "print('Predicted: %.3f' % yhat)"
   ]
  },
  {
   "cell_type": "code",
   "execution_count": null,
   "metadata": {},
   "outputs": [],
   "source": []
  }
 ]
}